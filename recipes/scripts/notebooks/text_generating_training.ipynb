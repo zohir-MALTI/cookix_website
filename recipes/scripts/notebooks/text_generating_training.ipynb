{
 "cells": [
  {
   "cell_type": "markdown",
   "metadata": {},
   "source": [
    "# Text generator model"
   ]
  },
  {
   "cell_type": "code",
   "execution_count": null,
   "metadata": {
    "colab": {
     "base_uri": "https://localhost:8080/"
    },
    "id": "Z2EVAeKxA-jY",
    "outputId": "b2220ce6-24cc-44a3-d6a7-552423c51ada",
    "scrolled": true
   },
   "outputs": [
    {
     "name": "stderr",
     "output_type": "stream",
     "text": [
      "/usr/local/lib/python3.7/dist-packages/psycopg2/__init__.py:144: UserWarning: The psycopg2 wheel package will be renamed from release 2.8; in order to keep installing from binary please use \"pip install psycopg2-binary\" instead. For details see: <http://initd.org/psycopg/docs/install.html#binary-install-from-pypi>.\n",
      "  \"\"\")\n"
     ]
    },
    {
     "name": "stdout",
     "output_type": "stream",
     "text": [
      "[nltk_data] Downloading package punkt to /root/nltk_data...\n",
      "[nltk_data]   Unzipping tokenizers/punkt.zip.\n",
      "[nltk_data] Downloading package wordnet to /root/nltk_data...\n",
      "[nltk_data]   Unzipping corpora/wordnet.zip.\n",
      "[nltk_data] Downloading package stopwords to /root/nltk_data...\n",
      "[nltk_data]   Unzipping corpora/stopwords.zip.\n"
     ]
    },
    {
     "data": {
      "text/plain": [
       "True"
      ]
     },
     "execution_count": 1,
     "metadata": {
      "tags": []
     },
     "output_type": "execute_result"
    }
   ],
   "source": [
    "import numpy as np\n",
    "import random\n",
    "import tensorflow\n",
    "import psycopg2\n",
    "import re\n",
    "from datetime import datetime\n",
    "import os\n",
    "import pickle\n",
    "import nltk\n",
    "from nltk.tokenize import word_tokenize\n",
    "from nltk.stem import WordNetLemmatizer\n",
    "from nltk.stem import SnowballStemmer\n",
    "from nltk.corpus import stopwords\n",
    "import matplotlib.pyplot as plt\n",
    "\n",
    "INDEX_TO_WORD_FILE = \"word_to_index.pickle\"\n",
    "STEPS_BEGINNING_FILE = \"steps_beginning.pickle\"\n",
    "\n",
    "nltk.download('punkt')\n",
    "nltk.download('wordnet')\n",
    "nltk.download('stopwords')"
   ]
  },
  {
   "cell_type": "markdown",
   "metadata": {},
   "source": [
    "### get the dataset"
   ]
  },
  {
   "cell_type": "code",
   "execution_count": null,
   "metadata": {
    "colab": {
     "base_uri": "https://localhost:8080/"
    },
    "id": "n67xrXyWA-jf",
    "outputId": "5bc6b119-4998-4a6e-e072-9475f707f987"
   },
   "outputs": [
    {
     "name": "stdout",
     "output_type": "stream",
     "text": [
      "steps recipes count: 10303\n"
     ]
    },
    {
     "data": {
      "text/plain": [
       "['Cook bacon in a skillet over medium heat until crisp.|Remove bacon from pan, reserving drippings, and crumble.|Add the shrimp to pan, and cook 2 minutes, turning once.|Combine bacon, 2 cups fennel, grape tomatoes, red onion, and baby spinach in a bowl.|Combine the remaining ingredients in a small bowl, stirring with a whisk.|Add the shrimp and balsamic mixture to spinach mixture; toss well.',\n",
       " 'In a large bowl, whisk together the milk and eggs. Stir in the sour cream, spinach, asparagus, Parmesan, and salt.|Add the flour and mix until well combined.|In a large skillet, over medium heat, heat 1/3 of the oil. Make 4 pancakes (about 1/4 cup of batter per pancake) and cook until golden brown and slightly puffed, 2 to 3 minutes per side. Working in batches, make a total of 12 pancakes, adding oil as necessary.']"
      ]
     },
     "execution_count": 2,
     "metadata": {
      "tags": []
     },
     "output_type": "execute_result"
    }
   ],
   "source": [
    "conn = psycopg2.connect(\n",
    "    host=\"157.230.24.228\",\n",
    "    database=\"cookix_db\",\n",
    "    user=\"cookix_user_db\",\n",
    "    password=\"f9d6UVP6gxEqueopMCiKdpjC0A5Pi5Ww\",\n",
    ")\n",
    "\n",
    "cursor = conn.cursor()\n",
    "\n",
    "cursor.execute(\"SELECT steps FROM recipes_recipe;\")\n",
    "data = cursor.fetchall()\n",
    "data = [steps[0] for steps in data]\n",
    "\n",
    "clean_data = [steps for steps in data if steps.strip() != \"\"]\n",
    "print(f\"steps recipes count: {len(clean_data)}\" )\n",
    "clean_data = clean_data\n",
    "clean_data[:2]"
   ]
  },
  {
   "cell_type": "markdown",
   "metadata": {},
   "source": [
    "### text cleaning"
   ]
  },
  {
   "cell_type": "code",
   "execution_count": null,
   "metadata": {
    "colab": {
     "base_uri": "https://localhost:8080/"
    },
    "id": "ko9wrfFbA-jg",
    "outputId": "e6b9a027-58bc-4fb0-bae9-057d69203607"
   },
   "outputs": [
    {
     "name": "stdout",
     "output_type": "stream",
     "text": [
      "Total Words: 1559139\n",
      "Unique Words: 11759\n"
     ]
    }
   ],
   "source": [
    "lemmatizer = WordNetLemmatizer()\n",
    "stemmer = SnowballStemmer(\"english\")\n",
    "\n",
    "def preprocess_text(sentences: list):\n",
    "    \n",
    "    processed_sen = []\n",
    "    all_words = []\n",
    "    \n",
    "    stop_words = set(stopwords.words('english'))\n",
    "    \n",
    "    for sen in sentences:\n",
    "        \n",
    "        if not (\"Ingredients\" in sen or \"Save Recipe\" in sen or \"Print Recipe\" in sen):\n",
    "            \n",
    "            # replace the pipe \"|\" that we used for steps separation, by space\n",
    "            sentence = re.sub(r\"(\\||:|!|\\?|=|\\*|\\{|\\}|\\'|\\-\\-|°|\\$|&|''|``|\\(|\\)|\\[|\\]|#|%)\", ' ', sen.lower())\n",
    "            sentence = re.sub(r\"[0-9]+f|[0-9]+\\-(inch)?\", ' ', sentence)\n",
    "            sentence = re.sub(r';', ',', sentence)\n",
    "            sentence = re.sub(r\"\\-?>\", ',', sentence)\n",
    "            \n",
    "            # replace numbers by [number] (valid for 5, 5555, 55-5555 ....)\n",
    "            sentence = re.sub(r\"\\s+[0-9]+((\\-|/)[0-9]*)*\\s+\", ' __NUMBER__ ', sentence)\n",
    "            sentence = re.sub(r\"[0-9]+/?[0-9]*\", ' __NUMBER__ ', sentence)\n",
    "            sentence = re.sub(r'(type_27_data|init_step_by_step_images)', ' ', sentence)\n",
    "            # remove brackets\n",
    "            sentence = re.sub(r'\\(.+\\)', ' ', sentence)\n",
    "            # remove meaningless comments\n",
    "            sentence = re.sub(r'Serves.*', ' ', sentence)\n",
    "            # remove meaningless comments\n",
    "            sentence = re.sub(r'reprinted.*', ' ', sentence)\n",
    "            \n",
    "            sentence = re.sub(r'\\.', ' . ', sentence)\n",
    "            # Removing multiple spaces\n",
    "            sentence = re.sub(r'\\s+', ' ', sentence.strip())\n",
    "            sen_tokens = word_tokenize(sentence)\n",
    "            #sen_tokens = [w for w in sen_tokens if not w in stop_words]\n",
    "            sentence = [lemmatizer.lemmatize(w) for w in sen_tokens]\n",
    "            [all_words.append(w) for w in sentence]\n",
    "            processed_sen.append(sentence)    \n",
    "\n",
    "    return processed_sen, all_words\n",
    "\n",
    "processed_sen, all_words = preprocess_text(clean_data)\n",
    "\n",
    "n_words = len(all_words)\n",
    "unique_words = list(set(all_words))\n",
    "n_unique_words = len(unique_words)\n",
    "\n",
    "print('Total Words: %d' % n_words)\n",
    "print('Unique Words: %d' % n_unique_words)\n",
    "# Total Words: 1079113\n",
    "# Unique Words: 11631"
   ]
  },
  {
   "cell_type": "markdown",
   "metadata": {},
   "source": [
    "### transform word to index"
   ]
  },
  {
   "cell_type": "code",
   "execution_count": null,
   "metadata": {
    "colab": {
     "base_uri": "https://localhost:8080/"
    },
    "id": "sEIpd2ZqA-ji",
    "outputId": "51721a8f-6a41-41c7-aac3-7a7225ade499"
   },
   "outputs": [
    {
     "name": "stdout",
     "output_type": "stream",
     "text": [
      "X shape: (1406391, 15, 1)\n",
      "y shape: (1406391, 1)\n"
     ]
    }
   ],
   "source": [
    "word_to_index, index_to_word = {}, {}\n",
    "for i, w in enumerate(unique_words): \n",
    "    index_to_word[i] = w\n",
    "    word_to_index[w] = i\n",
    "\n",
    "input_sequence = []\n",
    "output_words = []\n",
    "steps_beginning_idx = []\n",
    "input_seq_length = 15\n",
    "\n",
    "for sen in processed_sen:\n",
    "    for i in range(len(sen) - input_seq_length):\n",
    "        in_seq = sen[i:i + input_seq_length]\n",
    "        out_seq = sen[i + input_seq_length]\n",
    "        in_seq_index = [word_to_index[word] for word in in_seq]\n",
    "        input_sequence.append(in_seq_index)\n",
    "        output_words.append(word_to_index[out_seq])\n",
    "        if i == 0 and in_seq_index not in steps_beginning_idx: \n",
    "            steps_beginning_idx.append(in_seq_index)\n",
    "            \n",
    "\n",
    "X = np.reshape(input_sequence, (len(input_sequence), input_seq_length, 1))\n",
    "# X = X / float(vocab_size)\n",
    "# y = to_categorical(output_words)\n",
    "y = np.array(output_words.copy())\n",
    "y = np.reshape(y, (y.shape[0], 1))\n",
    "print(\"X shape:\", X.shape)\n",
    "print(\"y shape:\", y.shape)\n",
    "\n",
    "# save our variables\n",
    "\n",
    "with open(INDEX_TO_WORD_FILE, 'wb') as file:\n",
    "    pickle.dump(index_to_word, file, protocol=pickle.HIGHEST_PROTOCOL)\n",
    "\n",
    "with open(STEPS_BEGINNING_FILE, 'wb') as file:\n",
    "    pickle.dump(steps_beginning_idx, file, protocol=pickle.HIGHEST_PROTOCOL)"
   ]
  },
  {
   "cell_type": "markdown",
   "metadata": {},
   "source": [
    "### Model training"
   ]
  },
  {
   "cell_type": "code",
   "execution_count": null,
   "metadata": {
    "colab": {
     "base_uri": "https://localhost:8080/",
     "height": 1000
    },
    "id": "Xf0sHuYHA-jk",
    "outputId": "252c50b6-c3ce-4a76-a34a-8cb603868a22",
    "scrolled": true
   },
   "outputs": [
    {
     "name": "stdout",
     "output_type": "stream",
     "text": [
      "Model: \"sequential\"\n",
      "_________________________________________________________________\n",
      "Layer (type)                 Output Shape              Param #   \n",
      "=================================================================\n",
      "embedding (Embedding)        (None, None, 200)         2351800   \n",
      "_________________________________________________________________\n",
      "lstm (LSTM)                  (None, 200)               320800    \n",
      "_________________________________________________________________\n",
      "dense (Dense)                (None, 128)               25728     \n",
      "_________________________________________________________________\n",
      "dropout (Dropout)            (None, 128)               0         \n",
      "_________________________________________________________________\n",
      "dense_1 (Dense)              (None, 128)               16512     \n",
      "_________________________________________________________________\n",
      "dropout_1 (Dropout)          (None, 128)               0         \n",
      "_________________________________________________________________\n",
      "dense_2 (Dense)              (None, 64)                8256      \n",
      "_________________________________________________________________\n",
      "dropout_2 (Dropout)          (None, 64)                0         \n",
      "_________________________________________________________________\n",
      "dense_3 (Dense)              (None, 64)                4160      \n",
      "_________________________________________________________________\n",
      "dense_4 (Dense)              (None, 11759)             764335    \n",
      "=================================================================\n",
      "Total params: 3,491,591\n",
      "Trainable params: 3,491,591\n",
      "Non-trainable params: 0\n",
      "_________________________________________________________________\n",
      "gen_weights_202106151707_seq15_1406391sen_11759vocab_ep100.h5\n",
      "Epoch 1/100\n",
      "5494/5494 [==============================] - 274s 48ms/step - loss: 4.1877 - accuracy: 0.2393\n",
      "\n",
      "Epoch 00001: loss improved from inf to 4.18767, saving model to gen_weights_202106151707_seq15_1406391sen_11759vocab_ep100.h5\n",
      "Epoch 2/100\n",
      "5494/5494 [==============================] - 260s 47ms/step - loss: 3.3832 - accuracy: 0.3491\n",
      "\n",
      "Epoch 00002: loss improved from 4.18767 to 3.38316, saving model to gen_weights_202106151707_seq15_1406391sen_11759vocab_ep100.h5\n",
      "Epoch 3/100\n",
      "5494/5494 [==============================] - 263s 48ms/step - loss: 3.1746 - accuracy: 0.3766\n",
      "\n",
      "Epoch 00003: loss improved from 3.38316 to 3.17460, saving model to gen_weights_202106151707_seq15_1406391sen_11759vocab_ep100.h5\n",
      "Epoch 4/100\n",
      "5494/5494 [==============================] - 264s 48ms/step - loss: 3.0594 - accuracy: 0.3920\n",
      "\n",
      "Epoch 00004: loss improved from 3.17460 to 3.05937, saving model to gen_weights_202106151707_seq15_1406391sen_11759vocab_ep100.h5\n",
      "Epoch 5/100\n",
      "5494/5494 [==============================] - 256s 47ms/step - loss: 2.9849 - accuracy: 0.4017\n",
      "\n",
      "Epoch 00005: loss improved from 3.05937 to 2.98485, saving model to gen_weights_202106151707_seq15_1406391sen_11759vocab_ep100.h5\n",
      "Epoch 6/100\n",
      "5494/5494 [==============================] - 257s 47ms/step - loss: 2.9311 - accuracy: 0.4085\n",
      "\n",
      "Epoch 00006: loss improved from 2.98485 to 2.93106, saving model to gen_weights_202106151707_seq15_1406391sen_11759vocab_ep100.h5\n",
      "Epoch 7/100\n",
      "5494/5494 [==============================] - 258s 47ms/step - loss: 2.8883 - accuracy: 0.4142\n",
      "\n",
      "Epoch 00007: loss improved from 2.93106 to 2.88834, saving model to gen_weights_202106151707_seq15_1406391sen_11759vocab_ep100.h5\n",
      "Epoch 8/100\n",
      "5494/5494 [==============================] - 262s 48ms/step - loss: 2.8565 - accuracy: 0.4189\n",
      "\n",
      "Epoch 00008: loss improved from 2.88834 to 2.85652, saving model to gen_weights_202106151707_seq15_1406391sen_11759vocab_ep100.h5\n",
      "Epoch 9/100\n",
      "5494/5494 [==============================] - 259s 47ms/step - loss: 2.8277 - accuracy: 0.4231\n",
      "\n",
      "Epoch 00009: loss improved from 2.85652 to 2.82773, saving model to gen_weights_202106151707_seq15_1406391sen_11759vocab_ep100.h5\n",
      "Epoch 10/100\n",
      "5494/5494 [==============================] - 258s 47ms/step - loss: 2.8057 - accuracy: 0.4262\n",
      "\n",
      "Epoch 00010: loss improved from 2.82773 to 2.80567, saving model to gen_weights_202106151707_seq15_1406391sen_11759vocab_ep100.h5\n",
      "Epoch 11/100\n",
      "5494/5494 [==============================] - 254s 46ms/step - loss: 2.7840 - accuracy: 0.4292\n",
      "\n",
      "Epoch 00011: loss improved from 2.80567 to 2.78402, saving model to gen_weights_202106151707_seq15_1406391sen_11759vocab_ep100.h5\n",
      "Epoch 12/100\n",
      "5494/5494 [==============================] - 267s 49ms/step - loss: 2.7664 - accuracy: 0.4321\n",
      "\n",
      "Epoch 00012: loss improved from 2.78402 to 2.76643, saving model to gen_weights_202106151707_seq15_1406391sen_11759vocab_ep100.h5\n",
      "Epoch 13/100\n",
      "5494/5494 [==============================] - 264s 48ms/step - loss: 2.7506 - accuracy: 0.4343\n",
      "\n",
      "Epoch 00013: loss improved from 2.76643 to 2.75057, saving model to gen_weights_202106151707_seq15_1406391sen_11759vocab_ep100.h5\n",
      "Epoch 14/100\n",
      "5494/5494 [==============================] - 264s 48ms/step - loss: 2.7367 - accuracy: 0.4363\n",
      "\n",
      "Epoch 00014: loss improved from 2.75057 to 2.73673, saving model to gen_weights_202106151707_seq15_1406391sen_11759vocab_ep100.h5\n",
      "Epoch 15/100\n",
      "5494/5494 [==============================] - 262s 48ms/step - loss: 2.7236 - accuracy: 0.4385\n",
      "\n",
      "Epoch 00015: loss improved from 2.73673 to 2.72358, saving model to gen_weights_202106151707_seq15_1406391sen_11759vocab_ep100.h5\n",
      "Epoch 16/100\n",
      "5494/5494 [==============================] - 261s 48ms/step - loss: 2.7111 - accuracy: 0.4404\n",
      "\n",
      "Epoch 00016: loss improved from 2.72358 to 2.71106, saving model to gen_weights_202106151707_seq15_1406391sen_11759vocab_ep100.h5\n",
      "Epoch 17/100\n",
      "5494/5494 [==============================] - 263s 48ms/step - loss: 2.7005 - accuracy: 0.4420\n",
      "\n",
      "Epoch 00017: loss improved from 2.71106 to 2.70055, saving model to gen_weights_202106151707_seq15_1406391sen_11759vocab_ep100.h5\n",
      "Epoch 18/100\n",
      "5494/5494 [==============================] - 263s 48ms/step - loss: 2.6896 - accuracy: 0.4435\n",
      "\n",
      "Epoch 00018: loss improved from 2.70055 to 2.68959, saving model to gen_weights_202106151707_seq15_1406391sen_11759vocab_ep100.h5\n",
      "Epoch 19/100\n",
      "5494/5494 [==============================] - 262s 48ms/step - loss: 2.6804 - accuracy: 0.4450\n",
      "\n",
      "Epoch 00019: loss improved from 2.68959 to 2.68045, saving model to gen_weights_202106151707_seq15_1406391sen_11759vocab_ep100.h5\n",
      "Epoch 20/100\n",
      "5494/5494 [==============================] - 259s 47ms/step - loss: 2.6732 - accuracy: 0.4460\n",
      "\n",
      "Epoch 00020: loss improved from 2.68045 to 2.67320, saving model to gen_weights_202106151707_seq15_1406391sen_11759vocab_ep100.h5\n",
      "Epoch 21/100\n",
      "5494/5494 [==============================] - 258s 47ms/step - loss: 2.6644 - accuracy: 0.4471\n",
      "\n",
      "Epoch 00021: loss improved from 2.67320 to 2.66443, saving model to gen_weights_202106151707_seq15_1406391sen_11759vocab_ep100.h5\n",
      "Epoch 22/100\n",
      "5494/5494 [==============================] - 255s 46ms/step - loss: 2.6574 - accuracy: 0.4485\n",
      "\n",
      "Epoch 00022: loss improved from 2.66443 to 2.65741, saving model to gen_weights_202106151707_seq15_1406391sen_11759vocab_ep100.h5\n",
      "Epoch 23/100\n",
      "5494/5494 [==============================] - 255s 46ms/step - loss: 2.6506 - accuracy: 0.4497\n",
      "\n",
      "Epoch 00023: loss improved from 2.65741 to 2.65060, saving model to gen_weights_202106151707_seq15_1406391sen_11759vocab_ep100.h5\n",
      "Epoch 24/100\n",
      "5494/5494 [==============================] - 256s 47ms/step - loss: 2.6430 - accuracy: 0.4506\n",
      "\n",
      "Epoch 00024: loss improved from 2.65060 to 2.64295, saving model to gen_weights_202106151707_seq15_1406391sen_11759vocab_ep100.h5\n",
      "Epoch 25/100\n",
      "5494/5494 [==============================] - 255s 46ms/step - loss: 2.6361 - accuracy: 0.4513\n",
      "\n",
      "Epoch 00025: loss improved from 2.64295 to 2.63611, saving model to gen_weights_202106151707_seq15_1406391sen_11759vocab_ep100.h5\n",
      "Epoch 26/100\n",
      "5494/5494 [==============================] - 255s 46ms/step - loss: 2.6312 - accuracy: 0.4527\n",
      "\n",
      "Epoch 00026: loss improved from 2.63611 to 2.63115, saving model to gen_weights_202106151707_seq15_1406391sen_11759vocab_ep100.h5\n",
      "Epoch 27/100\n",
      "5494/5494 [==============================] - 255s 46ms/step - loss: 2.6252 - accuracy: 0.4532\n",
      "\n",
      "Epoch 00027: loss improved from 2.63115 to 2.62518, saving model to gen_weights_202106151707_seq15_1406391sen_11759vocab_ep100.h5\n",
      "Epoch 28/100\n",
      "5494/5494 [==============================] - 254s 46ms/step - loss: 2.6207 - accuracy: 0.4539\n",
      "\n",
      "Epoch 00028: loss improved from 2.62518 to 2.62065, saving model to gen_weights_202106151707_seq15_1406391sen_11759vocab_ep100.h5\n",
      "Epoch 29/100\n",
      "5494/5494 [==============================] - 253s 46ms/step - loss: 2.6153 - accuracy: 0.4549\n",
      "\n",
      "Epoch 00029: loss improved from 2.62065 to 2.61529, saving model to gen_weights_202106151707_seq15_1406391sen_11759vocab_ep100.h5\n",
      "Epoch 30/100\n",
      "5494/5494 [==============================] - 252s 46ms/step - loss: 2.6106 - accuracy: 0.4557\n",
      "\n",
      "Epoch 00030: loss improved from 2.61529 to 2.61058, saving model to gen_weights_202106151707_seq15_1406391sen_11759vocab_ep100.h5\n",
      "Epoch 31/100\n",
      "5494/5494 [==============================] - 252s 46ms/step - loss: 2.6073 - accuracy: 0.4565\n",
      "\n",
      "Epoch 00031: loss improved from 2.61058 to 2.60726, saving model to gen_weights_202106151707_seq15_1406391sen_11759vocab_ep100.h5\n",
      "Epoch 32/100\n",
      "5494/5494 [==============================] - 250s 45ms/step - loss: 2.6021 - accuracy: 0.4568\n",
      "\n",
      "Epoch 00032: loss improved from 2.60726 to 2.60212, saving model to gen_weights_202106151707_seq15_1406391sen_11759vocab_ep100.h5\n",
      "Epoch 33/100\n",
      "5494/5494 [==============================] - 251s 46ms/step - loss: 2.5985 - accuracy: 0.4573\n",
      "\n",
      "Epoch 00033: loss improved from 2.60212 to 2.59851, saving model to gen_weights_202106151707_seq15_1406391sen_11759vocab_ep100.h5\n",
      "Epoch 34/100\n",
      "5494/5494 [==============================] - 250s 45ms/step - loss: 2.5942 - accuracy: 0.4585\n",
      "\n",
      "Epoch 00034: loss improved from 2.59851 to 2.59415, saving model to gen_weights_202106151707_seq15_1406391sen_11759vocab_ep100.h5\n",
      "Epoch 35/100\n",
      "5494/5494 [==============================] - 250s 46ms/step - loss: 2.5919 - accuracy: 0.4586\n",
      "\n",
      "Epoch 00035: loss improved from 2.59415 to 2.59193, saving model to gen_weights_202106151707_seq15_1406391sen_11759vocab_ep100.h5\n",
      "Epoch 36/100\n",
      "5494/5494 [==============================] - 250s 45ms/step - loss: 2.5876 - accuracy: 0.4594\n",
      "\n",
      "Epoch 00036: loss improved from 2.59193 to 2.58765, saving model to gen_weights_202106151707_seq15_1406391sen_11759vocab_ep100.h5\n",
      "Epoch 37/100\n",
      "5494/5494 [==============================] - 249s 45ms/step - loss: 2.5873 - accuracy: 0.4594\n",
      "\n",
      "Epoch 00037: loss improved from 2.58765 to 2.58729, saving model to gen_weights_202106151707_seq15_1406391sen_11759vocab_ep100.h5\n",
      "Epoch 38/100\n",
      "5494/5494 [==============================] - 249s 45ms/step - loss: 2.5835 - accuracy: 0.4602\n",
      "\n",
      "Epoch 00038: loss improved from 2.58729 to 2.58348, saving model to gen_weights_202106151707_seq15_1406391sen_11759vocab_ep100.h5\n",
      "Epoch 39/100\n",
      "5494/5494 [==============================] - 252s 46ms/step - loss: 2.5806 - accuracy: 0.4602\n",
      "\n",
      "Epoch 00039: loss improved from 2.58348 to 2.58063, saving model to gen_weights_202106151707_seq15_1406391sen_11759vocab_ep100.h5\n",
      "Epoch 40/100\n",
      "5494/5494 [==============================] - 252s 46ms/step - loss: 2.5779 - accuracy: 0.4609\n",
      "\n",
      "Epoch 00040: loss improved from 2.58063 to 2.57792, saving model to gen_weights_202106151707_seq15_1406391sen_11759vocab_ep100.h5\n",
      "Epoch 41/100\n",
      "5494/5494 [==============================] - 253s 46ms/step - loss: 2.5744 - accuracy: 0.4617\n",
      "\n",
      "Epoch 00041: loss improved from 2.57792 to 2.57435, saving model to gen_weights_202106151707_seq15_1406391sen_11759vocab_ep100.h5\n",
      "Epoch 42/100\n",
      "5494/5494 [==============================] - 253s 46ms/step - loss: 2.5713 - accuracy: 0.4619\n",
      "\n",
      "Epoch 00042: loss improved from 2.57435 to 2.57126, saving model to gen_weights_202106151707_seq15_1406391sen_11759vocab_ep100.h5\n",
      "Epoch 43/100\n",
      "5494/5494 [==============================] - 250s 46ms/step - loss: 2.5702 - accuracy: 0.4622\n",
      "\n",
      "Epoch 00043: loss improved from 2.57126 to 2.57025, saving model to gen_weights_202106151707_seq15_1406391sen_11759vocab_ep100.h5\n",
      "Epoch 44/100\n",
      "5494/5494 [==============================] - 249s 45ms/step - loss: 2.5662 - accuracy: 0.4625\n",
      "\n",
      "Epoch 00044: loss improved from 2.57025 to 2.56619, saving model to gen_weights_202106151707_seq15_1406391sen_11759vocab_ep100.h5\n",
      "Epoch 45/100\n",
      "5494/5494 [==============================] - 248s 45ms/step - loss: 2.5654 - accuracy: 0.4627\n",
      "\n",
      "Epoch 00045: loss improved from 2.56619 to 2.56543, saving model to gen_weights_202106151707_seq15_1406391sen_11759vocab_ep100.h5\n",
      "Epoch 46/100\n",
      "5494/5494 [==============================] - 249s 45ms/step - loss: 2.5642 - accuracy: 0.4633\n",
      "\n",
      "Epoch 00046: loss improved from 2.56543 to 2.56417, saving model to gen_weights_202106151707_seq15_1406391sen_11759vocab_ep100.h5\n",
      "Epoch 47/100\n",
      "5494/5494 [==============================] - 253s 46ms/step - loss: 2.5604 - accuracy: 0.4639\n",
      "\n",
      "Epoch 00047: loss improved from 2.56417 to 2.56040, saving model to gen_weights_202106151707_seq15_1406391sen_11759vocab_ep100.h5\n",
      "Epoch 48/100\n",
      "5494/5494 [==============================] - 250s 45ms/step - loss: 2.5592 - accuracy: 0.4640\n",
      "\n",
      "Epoch 00048: loss improved from 2.56040 to 2.55919, saving model to gen_weights_202106151707_seq15_1406391sen_11759vocab_ep100.h5\n",
      "Epoch 49/100\n",
      "5494/5494 [==============================] - 250s 45ms/step - loss: 2.5582 - accuracy: 0.4640\n",
      "\n",
      "Epoch 00049: loss improved from 2.55919 to 2.55818, saving model to gen_weights_202106151707_seq15_1406391sen_11759vocab_ep100.h5\n",
      "Epoch 50/100\n",
      "5494/5494 [==============================] - 250s 46ms/step - loss: 2.5569 - accuracy: 0.4643\n",
      "\n",
      "Epoch 00050: loss improved from 2.55818 to 2.55693, saving model to gen_weights_202106151707_seq15_1406391sen_11759vocab_ep100.h5\n",
      "Epoch 51/100\n",
      "5494/5494 [==============================] - 255s 46ms/step - loss: 2.5561 - accuracy: 0.4647\n",
      "\n",
      "Epoch 00051: loss improved from 2.55693 to 2.55609, saving model to gen_weights_202106151707_seq15_1406391sen_11759vocab_ep100.h5\n",
      "Epoch 52/100\n",
      "5494/5494 [==============================] - 252s 46ms/step - loss: 2.5549 - accuracy: 0.4648\n",
      "\n",
      "Epoch 00052: loss improved from 2.55609 to 2.55487, saving model to gen_weights_202106151707_seq15_1406391sen_11759vocab_ep100.h5\n",
      "Epoch 53/100\n",
      " 145/5494 [..............................] - ETA: 4:04 - loss: 2.4953 - accuracy: 0.4752"
     ]
    },
    {
     "ename": "KeyboardInterrupt",
     "evalue": "ignored",
     "output_type": "error",
     "traceback": [
      "\u001b[0;31m---------------------------------------------------------------------------\u001b[0m",
      "\u001b[0;31mKeyboardInterrupt\u001b[0m                         Traceback (most recent call last)",
      "\u001b[0;32m<ipython-input-5-e12321cd95c6>\u001b[0m in \u001b[0;36m<module>\u001b[0;34m()\u001b[0m\n\u001b[1;32m     35\u001b[0m \u001b[0mcheckpoint\u001b[0m \u001b[0;34m=\u001b[0m \u001b[0mModelCheckpoint\u001b[0m\u001b[0;34m(\u001b[0m\u001b[0mTEXT_GEN_WEIGHTS_NAME\u001b[0m\u001b[0;34m,\u001b[0m \u001b[0mmonitor\u001b[0m\u001b[0;34m=\u001b[0m\u001b[0;34m'loss'\u001b[0m\u001b[0;34m,\u001b[0m \u001b[0mverbose\u001b[0m\u001b[0;34m=\u001b[0m\u001b[0;36m1\u001b[0m\u001b[0;34m,\u001b[0m \u001b[0msave_weights_only\u001b[0m\u001b[0;34m=\u001b[0m\u001b[0;32mFalse\u001b[0m\u001b[0;34m,\u001b[0m \u001b[0msave_best_only\u001b[0m\u001b[0;34m=\u001b[0m\u001b[0;32mTrue\u001b[0m\u001b[0;34m,\u001b[0m \u001b[0mmode\u001b[0m\u001b[0;34m=\u001b[0m\u001b[0;34m'min'\u001b[0m\u001b[0;34m)\u001b[0m\u001b[0;34m\u001b[0m\u001b[0;34m\u001b[0m\u001b[0m\n\u001b[1;32m     36\u001b[0m \u001b[0;34m\u001b[0m\u001b[0m\n\u001b[0;32m---> 37\u001b[0;31m \u001b[0mhistory\u001b[0m \u001b[0;34m=\u001b[0m \u001b[0mmodel\u001b[0m\u001b[0;34m.\u001b[0m\u001b[0mfit\u001b[0m\u001b[0;34m(\u001b[0m\u001b[0mX\u001b[0m\u001b[0;34m,\u001b[0m \u001b[0my\u001b[0m\u001b[0;34m,\u001b[0m \u001b[0mbatch_size\u001b[0m\u001b[0;34m=\u001b[0m\u001b[0;36m256\u001b[0m\u001b[0;34m,\u001b[0m \u001b[0mepochs\u001b[0m\u001b[0;34m=\u001b[0m\u001b[0mEPOCHS\u001b[0m\u001b[0;34m,\u001b[0m \u001b[0mverbose\u001b[0m\u001b[0;34m=\u001b[0m\u001b[0;36m1\u001b[0m\u001b[0;34m,\u001b[0m \u001b[0mcallbacks\u001b[0m\u001b[0;34m=\u001b[0m\u001b[0;34m[\u001b[0m\u001b[0mcheckpoint\u001b[0m\u001b[0;34m]\u001b[0m\u001b[0;34m)\u001b[0m\u001b[0;34m\u001b[0m\u001b[0;34m\u001b[0m\u001b[0m\n\u001b[0m\u001b[1;32m     38\u001b[0m \u001b[0;34m\u001b[0m\u001b[0m\n\u001b[1;32m     39\u001b[0m \u001b[0;31m# model.load_weights(TEXT_GEN_WEIGHTS_NAME+\".hdf5\")\u001b[0m\u001b[0;34m\u001b[0m\u001b[0;34m\u001b[0m\u001b[0;34m\u001b[0m\u001b[0m\n",
      "\u001b[0;32m/usr/local/lib/python3.7/dist-packages/tensorflow/python/keras/engine/training.py\u001b[0m in \u001b[0;36mfit\u001b[0;34m(self, x, y, batch_size, epochs, verbose, callbacks, validation_split, validation_data, shuffle, class_weight, sample_weight, initial_epoch, steps_per_epoch, validation_steps, validation_batch_size, validation_freq, max_queue_size, workers, use_multiprocessing)\u001b[0m\n\u001b[1;32m   1181\u001b[0m                 _r=1):\n\u001b[1;32m   1182\u001b[0m               \u001b[0mcallbacks\u001b[0m\u001b[0;34m.\u001b[0m\u001b[0mon_train_batch_begin\u001b[0m\u001b[0;34m(\u001b[0m\u001b[0mstep\u001b[0m\u001b[0;34m)\u001b[0m\u001b[0;34m\u001b[0m\u001b[0;34m\u001b[0m\u001b[0m\n\u001b[0;32m-> 1183\u001b[0;31m               \u001b[0mtmp_logs\u001b[0m \u001b[0;34m=\u001b[0m \u001b[0mself\u001b[0m\u001b[0;34m.\u001b[0m\u001b[0mtrain_function\u001b[0m\u001b[0;34m(\u001b[0m\u001b[0miterator\u001b[0m\u001b[0;34m)\u001b[0m\u001b[0;34m\u001b[0m\u001b[0;34m\u001b[0m\u001b[0m\n\u001b[0m\u001b[1;32m   1184\u001b[0m               \u001b[0;32mif\u001b[0m \u001b[0mdata_handler\u001b[0m\u001b[0;34m.\u001b[0m\u001b[0mshould_sync\u001b[0m\u001b[0;34m:\u001b[0m\u001b[0;34m\u001b[0m\u001b[0;34m\u001b[0m\u001b[0m\n\u001b[1;32m   1185\u001b[0m                 \u001b[0mcontext\u001b[0m\u001b[0;34m.\u001b[0m\u001b[0masync_wait\u001b[0m\u001b[0;34m(\u001b[0m\u001b[0;34m)\u001b[0m\u001b[0;34m\u001b[0m\u001b[0;34m\u001b[0m\u001b[0m\n",
      "\u001b[0;32m/usr/local/lib/python3.7/dist-packages/tensorflow/python/eager/def_function.py\u001b[0m in \u001b[0;36m__call__\u001b[0;34m(self, *args, **kwds)\u001b[0m\n\u001b[1;32m    887\u001b[0m \u001b[0;34m\u001b[0m\u001b[0m\n\u001b[1;32m    888\u001b[0m       \u001b[0;32mwith\u001b[0m \u001b[0mOptionalXlaContext\u001b[0m\u001b[0;34m(\u001b[0m\u001b[0mself\u001b[0m\u001b[0;34m.\u001b[0m\u001b[0m_jit_compile\u001b[0m\u001b[0;34m)\u001b[0m\u001b[0;34m:\u001b[0m\u001b[0;34m\u001b[0m\u001b[0;34m\u001b[0m\u001b[0m\n\u001b[0;32m--> 889\u001b[0;31m         \u001b[0mresult\u001b[0m \u001b[0;34m=\u001b[0m \u001b[0mself\u001b[0m\u001b[0;34m.\u001b[0m\u001b[0m_call\u001b[0m\u001b[0;34m(\u001b[0m\u001b[0;34m*\u001b[0m\u001b[0margs\u001b[0m\u001b[0;34m,\u001b[0m \u001b[0;34m**\u001b[0m\u001b[0mkwds\u001b[0m\u001b[0;34m)\u001b[0m\u001b[0;34m\u001b[0m\u001b[0;34m\u001b[0m\u001b[0m\n\u001b[0m\u001b[1;32m    890\u001b[0m \u001b[0;34m\u001b[0m\u001b[0m\n\u001b[1;32m    891\u001b[0m       \u001b[0mnew_tracing_count\u001b[0m \u001b[0;34m=\u001b[0m \u001b[0mself\u001b[0m\u001b[0;34m.\u001b[0m\u001b[0mexperimental_get_tracing_count\u001b[0m\u001b[0;34m(\u001b[0m\u001b[0;34m)\u001b[0m\u001b[0;34m\u001b[0m\u001b[0;34m\u001b[0m\u001b[0m\n",
      "\u001b[0;32m/usr/local/lib/python3.7/dist-packages/tensorflow/python/eager/def_function.py\u001b[0m in \u001b[0;36m_call\u001b[0;34m(self, *args, **kwds)\u001b[0m\n\u001b[1;32m    915\u001b[0m       \u001b[0;31m# In this case we have created variables on the first call, so we run the\u001b[0m\u001b[0;34m\u001b[0m\u001b[0;34m\u001b[0m\u001b[0;34m\u001b[0m\u001b[0m\n\u001b[1;32m    916\u001b[0m       \u001b[0;31m# defunned version which is guaranteed to never create variables.\u001b[0m\u001b[0;34m\u001b[0m\u001b[0;34m\u001b[0m\u001b[0;34m\u001b[0m\u001b[0m\n\u001b[0;32m--> 917\u001b[0;31m       \u001b[0;32mreturn\u001b[0m \u001b[0mself\u001b[0m\u001b[0;34m.\u001b[0m\u001b[0m_stateless_fn\u001b[0m\u001b[0;34m(\u001b[0m\u001b[0;34m*\u001b[0m\u001b[0margs\u001b[0m\u001b[0;34m,\u001b[0m \u001b[0;34m**\u001b[0m\u001b[0mkwds\u001b[0m\u001b[0;34m)\u001b[0m  \u001b[0;31m# pylint: disable=not-callable\u001b[0m\u001b[0;34m\u001b[0m\u001b[0;34m\u001b[0m\u001b[0m\n\u001b[0m\u001b[1;32m    918\u001b[0m     \u001b[0;32melif\u001b[0m \u001b[0mself\u001b[0m\u001b[0;34m.\u001b[0m\u001b[0m_stateful_fn\u001b[0m \u001b[0;32mis\u001b[0m \u001b[0;32mnot\u001b[0m \u001b[0;32mNone\u001b[0m\u001b[0;34m:\u001b[0m\u001b[0;34m\u001b[0m\u001b[0;34m\u001b[0m\u001b[0m\n\u001b[1;32m    919\u001b[0m       \u001b[0;31m# Release the lock early so that multiple threads can perform the call\u001b[0m\u001b[0;34m\u001b[0m\u001b[0;34m\u001b[0m\u001b[0;34m\u001b[0m\u001b[0m\n",
      "\u001b[0;32m/usr/local/lib/python3.7/dist-packages/tensorflow/python/eager/function.py\u001b[0m in \u001b[0;36m__call__\u001b[0;34m(self, *args, **kwargs)\u001b[0m\n\u001b[1;32m   3022\u001b[0m        filtered_flat_args) = self._maybe_define_function(args, kwargs)\n\u001b[1;32m   3023\u001b[0m     return graph_function._call_flat(\n\u001b[0;32m-> 3024\u001b[0;31m         filtered_flat_args, captured_inputs=graph_function.captured_inputs)  # pylint: disable=protected-access\n\u001b[0m\u001b[1;32m   3025\u001b[0m \u001b[0;34m\u001b[0m\u001b[0m\n\u001b[1;32m   3026\u001b[0m   \u001b[0;34m@\u001b[0m\u001b[0mproperty\u001b[0m\u001b[0;34m\u001b[0m\u001b[0;34m\u001b[0m\u001b[0m\n",
      "\u001b[0;32m/usr/local/lib/python3.7/dist-packages/tensorflow/python/eager/function.py\u001b[0m in \u001b[0;36m_call_flat\u001b[0;34m(self, args, captured_inputs, cancellation_manager)\u001b[0m\n\u001b[1;32m   1959\u001b[0m       \u001b[0;31m# No tape is watching; skip to running the function.\u001b[0m\u001b[0;34m\u001b[0m\u001b[0;34m\u001b[0m\u001b[0;34m\u001b[0m\u001b[0m\n\u001b[1;32m   1960\u001b[0m       return self._build_call_outputs(self._inference_function.call(\n\u001b[0;32m-> 1961\u001b[0;31m           ctx, args, cancellation_manager=cancellation_manager))\n\u001b[0m\u001b[1;32m   1962\u001b[0m     forward_backward = self._select_forward_and_backward_functions(\n\u001b[1;32m   1963\u001b[0m         \u001b[0margs\u001b[0m\u001b[0;34m,\u001b[0m\u001b[0;34m\u001b[0m\u001b[0;34m\u001b[0m\u001b[0m\n",
      "\u001b[0;32m/usr/local/lib/python3.7/dist-packages/tensorflow/python/eager/function.py\u001b[0m in \u001b[0;36mcall\u001b[0;34m(self, ctx, args, cancellation_manager)\u001b[0m\n\u001b[1;32m    594\u001b[0m               \u001b[0minputs\u001b[0m\u001b[0;34m=\u001b[0m\u001b[0margs\u001b[0m\u001b[0;34m,\u001b[0m\u001b[0;34m\u001b[0m\u001b[0;34m\u001b[0m\u001b[0m\n\u001b[1;32m    595\u001b[0m               \u001b[0mattrs\u001b[0m\u001b[0;34m=\u001b[0m\u001b[0mattrs\u001b[0m\u001b[0;34m,\u001b[0m\u001b[0;34m\u001b[0m\u001b[0;34m\u001b[0m\u001b[0m\n\u001b[0;32m--> 596\u001b[0;31m               ctx=ctx)\n\u001b[0m\u001b[1;32m    597\u001b[0m         \u001b[0;32melse\u001b[0m\u001b[0;34m:\u001b[0m\u001b[0;34m\u001b[0m\u001b[0;34m\u001b[0m\u001b[0m\n\u001b[1;32m    598\u001b[0m           outputs = execute.execute_with_cancellation(\n",
      "\u001b[0;32m/usr/local/lib/python3.7/dist-packages/tensorflow/python/eager/execute.py\u001b[0m in \u001b[0;36mquick_execute\u001b[0;34m(op_name, num_outputs, inputs, attrs, ctx, name)\u001b[0m\n\u001b[1;32m     58\u001b[0m     \u001b[0mctx\u001b[0m\u001b[0;34m.\u001b[0m\u001b[0mensure_initialized\u001b[0m\u001b[0;34m(\u001b[0m\u001b[0;34m)\u001b[0m\u001b[0;34m\u001b[0m\u001b[0;34m\u001b[0m\u001b[0m\n\u001b[1;32m     59\u001b[0m     tensors = pywrap_tfe.TFE_Py_Execute(ctx._handle, device_name, op_name,\n\u001b[0;32m---> 60\u001b[0;31m                                         inputs, attrs, num_outputs)\n\u001b[0m\u001b[1;32m     61\u001b[0m   \u001b[0;32mexcept\u001b[0m \u001b[0mcore\u001b[0m\u001b[0;34m.\u001b[0m\u001b[0m_NotOkStatusException\u001b[0m \u001b[0;32mas\u001b[0m \u001b[0me\u001b[0m\u001b[0;34m:\u001b[0m\u001b[0;34m\u001b[0m\u001b[0;34m\u001b[0m\u001b[0m\n\u001b[1;32m     62\u001b[0m     \u001b[0;32mif\u001b[0m \u001b[0mname\u001b[0m \u001b[0;32mis\u001b[0m \u001b[0;32mnot\u001b[0m \u001b[0;32mNone\u001b[0m\u001b[0;34m:\u001b[0m\u001b[0;34m\u001b[0m\u001b[0;34m\u001b[0m\u001b[0m\n",
      "\u001b[0;31mKeyboardInterrupt\u001b[0m: "
     ]
    }
   ],
   "source": [
    "from tensorflow.keras.callbacks import ModelCheckpoint\n",
    "from tensorflow.keras.losses import sparse_categorical_crossentropy\n",
    "from tensorflow.keras.models import *\n",
    "from tensorflow.keras.layers import *\n",
    "\n",
    "\n",
    "EPOCHS = 100\n",
    "LOSS = \"sparse_categorical_crossentropy\"\n",
    "OPTIMIZER = \"adam\"\n",
    "\n",
    "model = Sequential()\n",
    "model.add(Embedding(n_unique_words, 200))\n",
    "model.add(LSTM(200))\n",
    "model.add(Dense(128, activation=\"relu\"))\n",
    "model.add(Dropout(0.2))\n",
    "model.add(Dense(128, activation=\"relu\"))\n",
    "model.add(Dropout(0.2))\n",
    "model.add(Dense(64, activation=\"relu\"))\n",
    "model.add(Dropout(0.1))\n",
    "model.add(Dense(64, activation=\"relu\"))\n",
    "model.add(Dense(n_unique_words, activation='softmax'))\n",
    "\n",
    "model.summary()\n",
    "\n",
    "model.compile(loss=LOSS, optimizer=OPTIMIZER, metrics=[\"accuracy\"])\n",
    "current_time = datetime.today().strftime(\"%Y%m%d%H%M\")\n",
    "TEXT_GEN_WEIGHTS_NAME = f\"gen_weights_{current_time}_seq{input_seq_length}_{X.shape[0]}sen_{n_unique_words}vocab_ep{EPOCHS}.h5\"\n",
    "\n",
    "print(TEXT_GEN_WEIGHTS_NAME)\n",
    "checkpoint = ModelCheckpoint(TEXT_GEN_WEIGHTS_NAME, monitor='loss', verbose=1, save_weights_only=False, save_best_only=True, mode='min')\n",
    "\n",
    "history = model.fit(X, y, batch_size=256, epochs=EPOCHS, verbose=1, callbacks=[checkpoint])\n",
    "\n",
    "# model.load_weights(TEXT_GEN_WEIGHTS_NAME+\".hdf5\")\n",
    "# model.compile(loss=LOSS, optimizer=OPTIMIZER)\n",
    "# os.remove(TEXT_GEN_WEIGHTS_NAME+\".hdf5\")\n",
    "model.save(TEXT_GEN_WEIGHTS_NAME)"
   ]
  },
  {
   "cell_type": "code",
   "execution_count": null,
   "metadata": {
    "colab": {
     "base_uri": "https://localhost:8080/",
     "height": 558
    },
    "id": "flE5J_yfA-jl",
    "outputId": "d8ac4c7c-f099-45a0-d6a3-ad97baec279e"
   },
   "outputs": [
    {
     "data": {
      "image/png": "[encoded data removed]",
      "text/plain": [
       "<Figure size 432x288 with 1 Axes>"
      ]
     },
     "metadata": {
      "needs_background": "light",
      "tags": []
     },
     "output_type": "display_data"
    },
    {
     "data": {
      "image/png": "[encoded data removed]",
      "text/plain": [
       "<Figure size 432x288 with 1 Axes>"
      ]
     },
     "metadata": {
      "needs_background": "light",
      "tags": []
     },
     "output_type": "display_data"
    },
    {
     "name": "stdout",
     "output_type": "stream",
     "text": [
      "Random sentence: 'melt butter large saucepan'\n"
     ]
    }
   ],
   "source": [
    "plt.plot(history.history[\"accuracy\"])\n",
    "plt.xlabel(\"Epochs\")\n",
    "plt.ylabel(\"accuracy\")\n",
    "plt.show()\n",
    "\n",
    "plt.plot(history.history[\"loss\"], c=\"orange\")\n",
    "plt.xlabel(\"Epochs\")\n",
    "plt.ylabel(\"loss\")\n",
    "plt.show()\n",
    "\n",
    "# model = load_model(TEXT_GEN_WEIGHTS_NAME+\".h5\")\n",
    "# model.load_weights(TEXT_GEN_WEIGHTS_NAME+\".hdf5\")\n",
    "# model.compile(loss=LOSS, optimizer=OPTIMIZER)\n",
    "with open(INDEX_TO_WORD_FILE, 'rb') as file:\n",
    "    index_to_word = pickle.load(file)\n",
    "\n",
    "with open(STEPS_BEGINNING_FILE, 'rb') as file:\n",
    "    steps_beginning_idx = pickle.load(file)\n",
    "\n",
    "\n",
    "random_seq_index = np.random.randint(0, len(steps_beginning_idx)-1)\n",
    "random_seq = steps_beginning_idx[random_seq_index]\n",
    "\n",
    "word_sequence = [index_to_word[value] for value in random_seq]\n",
    "random_sen = ' '.join(word_sequence)\n",
    "print(f\"Random sentence: '{random_sen}'\")"
   ]
  },
  {
   "cell_type": "markdown",
   "metadata": {},
   "source": [
    "### word generating"
   ]
  },
  {
   "cell_type": "code",
   "execution_count": null,
   "metadata": {
    "id": "ejDyr3S0A-jl"
   },
   "outputs": [],
   "source": [
    "def generate_sentences(model, input_sentence: list, steps_count: int=10):\n",
    "\n",
    "    with open(INDEX_TO_WORD_FILE, 'rb') as file:\n",
    "        index_to_word = pickle.load(file)\n",
    "\n",
    "\n",
    "    input_sentence_list = input_sentence.copy()\n",
    "    word_to_index = {v: k for k, v in index_to_word.items()}\n",
    "\n",
    "    stop_words = set(stopwords.words('english'))\n",
    "    stop_words_idx = [word_to_index[w] for w in stop_words if w in word_to_index.keys()]\n",
    "\n",
    "    sentences_delimiter = word_to_index[\".\"]\n",
    "    generated_sen_count = input_sentence_list.count(sentences_delimiter)\n",
    "    input_seq_length = len(input_sentence_list) # model.input_shape[1]\n",
    "\n",
    "\n",
    "    words_count = 0\n",
    "    while generated_sen_count <= steps_count:\n",
    "        input_sentence_arr = np.reshape(input_sentence_list[-input_seq_length:], (1, input_seq_length, 1))\n",
    "\n",
    "        predicted_word_index = model.predict(input_sentence_arr, verbose=0)\n",
    "        predicted_idx_asc = np.argsort(predicted_word_index, axis=1, kind='quicksort')\n",
    "        predicted_word_id = predicted_idx_asc[:,-1][0]\n",
    "        keeped_length_words = min(len(input_sentence_list), 15)\n",
    "        last_N_words = input_sentence_list[-keeped_length_words:]\n",
    "        i = 2\n",
    "        while predicted_word_id not in stop_words_idx and predicted_word_id in last_N_words\\\n",
    "                and predicted_word_id not in [word_to_index[\".\"], word_to_index[\",\"]] :\n",
    "            i += 1\n",
    "\n",
    "        input_sentence_list.append(predicted_word_id)\n",
    "        if predicted_word_id == sentences_delimiter : generated_sen_count += 1\n",
    "        words_count += 1\n",
    "        if words_count >= 50: break\n",
    "\n",
    "    words_seq = [index_to_word[index] for index in input_sentence_list]\n",
    "    final_output = \" \".join(words_seq)\n",
    "\n",
    "    return final_output\n",
    "\n",
    "\n",
    "generate_sentences(model, random_seq, steps_count=5)"
   ]
  },
  {
   "cell_type": "code",
   "execution_count": null,
   "metadata": {
    "id": "AIXRAllVA-jl"
   },
   "outputs": [],
   "source": []
  }
 ],
 "metadata": {
  "accelerator": "GPU",
  "colab": {
   "collapsed_sections": [],
   "name": "text_gen_training_clean.ipynb",
   "provenance": []
  },
  "kernelspec": {
   "display_name": "cookix",
   "language": "python",
   "name": "cookix"
  },
  "language_info": {
   "codemirror_mode": {
    "name": "ipython",
    "version": 3
   },
   "file_extension": ".py",
   "mimetype": "text/x-python",
   "name": "python",
   "nbconvert_exporter": "python",
   "pygments_lexer": "ipython3",
   "version": "3.8.3"
  }
 },
 "nbformat": 4,
 "nbformat_minor": 1
}
