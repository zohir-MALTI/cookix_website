{
 "cells": [
  {
   "cell_type": "code",
   "execution_count": 1,
   "metadata": {},
   "outputs": [],
   "source": [
    "import pandas as pd\n",
    "import numpy as np\n",
    "import psycopg2\n",
    "from nltk.tokenize import word_tokenize\n",
    "from nltk.stem import WordNetLemmatizer\n",
    "from nltk.stem import SnowballStemmer\n",
    "from nltk.corpus import stopwords\n",
    "import re\n",
    "from tqdm import tqdm\n",
    "import matplotlib.pyplot as plt\n",
    "import math\n",
    "from sklearn.model_selection import train_test_split\n",
    "from sklearn import model_selection, preprocessing, linear_model, naive_bayes, metrics, svm\n",
    "from sklearn.ensemble import RandomForestClassifier, GradientBoostingClassifier\n",
    "from sklearn.feature_extraction.text import TfidfVectorizer, CountVectorizer\n",
    "import seaborn as sns\n",
    "import pickle"
   ]
  },
  {
   "cell_type": "code",
   "execution_count": 2,
   "metadata": {},
   "outputs": [
    {
     "name": "stdout",
     "output_type": "stream",
     "text": [
      "other data count: 10000\n",
      "steps recipes count: 10303\n",
      "ingredients recipes count: 22401\n"
     ]
    }
   ],
   "source": [
    "# load the dataset\n",
    "other_data = open('corpus.txt').readlines()\n",
    "print(f\"other data count: {len(other_data)}\")\n",
    "\n",
    "conn = psycopg2.connect(\n",
    "    host=\"157.230.24.228\",\n",
    "    database=\"cookix_db\",\n",
    "    user=\"cookix_user_db\",\n",
    "    password=\"f9d6UVP6gxEqueopMCiKdpjC0A5Pi5Ww\",\n",
    ")\n",
    "cursor = conn.cursor()\n",
    "\n",
    "cursor.execute(\"SELECT steps FROM recipes_recipe;\")\n",
    "recipes_steps = cursor.fetchall()\n",
    "recipes_steps = [steps[0] for steps in recipes_steps]\n",
    "recipes_steps = [steps for steps in recipes_steps if steps.strip() != \"\"]\n",
    "print(f\"steps recipes count: {len(recipes_steps)}\" )\n",
    "\n",
    "cursor.execute(\"SELECT ingredients FROM recipes_recipe;\")\n",
    "recipes_ingredients = cursor.fetchall()\n",
    "recipes_ingredients = [ings[0] for ings in recipes_ingredients]\n",
    "recipes_ingredients = [ings for ings in recipes_ingredients if ings.strip() != \"\"]\n",
    "print(f\"ingredients recipes count: {len(recipes_ingredients)}\" )"
   ]
  },
  {
   "cell_type": "markdown",
   "metadata": {},
   "source": [
    "## join together the data"
   ]
  },
  {
   "cell_type": "code",
   "execution_count": 3,
   "metadata": {},
   "outputs": [
    {
     "name": "stdout",
     "output_type": "stream",
     "text": [
      "42704\n",
      "42704\n"
     ]
    }
   ],
   "source": [
    "x_data = other_data + recipes_steps + recipes_ingredients\n",
    "y_data = list(np.zeros((len(other_data)), dtype=\"int\")) + list(np.ones((len(recipes_steps)+len(recipes_ingredients)), dtype=\"int\"))\n",
    "\n",
    "print(len(x_data))\n",
    "print(len(y_data))\n",
    "\n",
    "# x_data = x_data[:30]\n",
    "# y_data = y_data[:30]"
   ]
  },
  {
   "cell_type": "markdown",
   "metadata": {},
   "source": [
    "# Feature engineering"
   ]
  },
  {
   "cell_type": "code",
   "execution_count": 4,
   "metadata": {},
   "outputs": [
    {
     "name": "stderr",
     "output_type": "stream",
     "text": [
      "100%|██████████| 42704/42704 [00:02<00:00, 19176.81it/s]\n"
     ]
    }
   ],
   "source": [
    "lemmatizer = WordNetLemmatizer()\n",
    "stemmer = SnowballStemmer(\"english\")\n",
    "\n",
    "def preprocess_text(sentences: list):\n",
    "    \n",
    "    processed_sen = []\n",
    "    all_words = []\n",
    "    \n",
    "    stop_words = set(stopwords.words('english'))\n",
    "    \n",
    "    for sen in tqdm(sentences):\n",
    "        # keep only text\n",
    "        sentence = re.sub(r\"[^a-z, ]+\", ' ', sen.lower())\n",
    "        sentence = re.sub(r'\\b\\w\\b', ' ', sentence.strip())\n",
    "        # Removing multiple spaces\n",
    "        sentence = re.sub(r'\\s+', ' ', sentence.strip())\n",
    "        # remove stopwords\n",
    "        sen_tokens = [w for w in sentence.split(\" \") if w not in stop_words]\n",
    "        sentence = \" \".join(sen_tokens)\n",
    "\n",
    "        processed_sen.append(sentence) \n",
    "\n",
    "    return processed_sen\n",
    "\n",
    "x_data_processed = preprocess_text(x_data)"
   ]
  },
  {
   "cell_type": "markdown",
   "metadata": {},
   "source": [
    "### Count vectorizer & TF-IDF"
   ]
  },
  {
   "cell_type": "code",
   "execution_count": 5,
   "metadata": {},
   "outputs": [],
   "source": [
    "vectorizer = CountVectorizer(analyzer='word', token_pattern=r'\\w{1,}')\n",
    "x_data_vec = vectorizer.fit_transform(x_data_processed)\n",
    "# print(vectorizer.get_feature_names())\n",
    "# x_data_vec.toarray()"
   ]
  },
  {
   "cell_type": "code",
   "execution_count": 6,
   "metadata": {},
   "outputs": [
    {
     "name": "stdout",
     "output_type": "stream",
     "text": [
      "output shape (sentences_count, features_count):  (42704, 5000)\n"
     ]
    }
   ],
   "source": [
    "tfidf = TfidfVectorizer(analyzer='word', token_pattern=r'\\w{1,}', max_features=5000)\n",
    "xdata_tfidf = tfidf.fit_transform(x_data_processed)\n",
    "\n",
    "print(\"output shape (sentences_count, features_count): \", xdata_tfidf.shape)\n",
    "\n",
    "with open(\"tfidf.pickle\", 'wb') as file:\n",
    "        pickle.dump(tfidf, file, protocol=pickle.HIGHEST_PROTOCOL)"
   ]
  },
  {
   "cell_type": "code",
   "execution_count": 14,
   "metadata": {},
   "outputs": [
    {
     "data": {
      "image/png": "[encoded data removed]",
      "text/plain": [
       "<Figure size 432x288 with 1 Axes>"
      ]
     },
     "metadata": {
      "needs_background": "light"
     },
     "output_type": "display_data"
    }
   ],
   "source": [
    "lengths = [len(sen.split(\" \")) for sen in x_data]\n",
    "w = 20\n",
    "bins = math.ceil((max(lengths) - min(lengths))/w) # create bins of w\n",
    "plt.hist(lengths, bins=bins)\n",
    "plt.xlim((0,300))\n",
    "plt.xlabel(\"words count by paragraph\")\n",
    "plt.ylabel(\"frequency\")\n",
    "plt.title(\"Sentences words count histogram\")\n",
    "plt.show()"
   ]
  },
  {
   "cell_type": "markdown",
   "metadata": {},
   "source": [
    "## Training the model\n",
    "* We will try different models, then choose the best of them"
   ]
  },
  {
   "cell_type": "markdown",
   "metadata": {},
   "source": [
    "#### preparing data for ML"
   ]
  },
  {
   "cell_type": "code",
   "execution_count": 15,
   "metadata": {},
   "outputs": [
    {
     "name": "stdout",
     "output_type": "stream",
     "text": [
      "train shape: (38433, 5000)\n",
      "test shape: (4271, 5000)\n"
     ]
    }
   ],
   "source": [
    "train_x, test_x, train_y, test_y = train_test_split(xdata_tfidf, y_data,\n",
    "                                                   test_size=0.1, random_state=42)\n",
    "\n",
    "print(f\"train shape: {train_x.shape}\")\n",
    "print(f\"test shape: {test_x.shape}\")"
   ]
  },
  {
   "cell_type": "code",
   "execution_count": 17,
   "metadata": {},
   "outputs": [],
   "source": [
    "def train_model(classifier):\n",
    "    # fit the training dataset on the classifier\n",
    "    classifier = classifier.fit(train_x, train_y)\n",
    "    \n",
    "    # predict the labels on validation dataset\n",
    "    y_pred = classifier.predict(test_x)\n",
    "    cm = metrics.confusion_matrix(test_y, y_pred)\n",
    "    # confusion matrix\n",
    "    print(f\"model accuracy: {round(metrics.accuracy_score(y_pred, test_y), 3)}\")\n",
    "    ax = sns.heatmap(cm, annot=True, fmt=\"d\", cbar=False, cmap=\"YlGnBu\")\n",
    "    ax.set_title(\"Confusion matrix\")\n",
    "    plt.show()\n",
    "    \n",
    "    return classifier\n",
    "\n",
    "\n",
    "def save_classifier(model, name=\"topic_model.pickle\"):\n",
    "    \n",
    "    with open(name, 'wb') as file:\n",
    "        pickle.dump(model, file, protocol=pickle.HIGHEST_PROTOCOL)\n"
   ]
  },
  {
   "cell_type": "markdown",
   "metadata": {},
   "source": [
    "#### Naive Bayes"
   ]
  },
  {
   "cell_type": "code",
   "execution_count": 10,
   "metadata": {},
   "outputs": [
    {
     "name": "stdout",
     "output_type": "stream",
     "text": [
      "model accuracy: 0.999\n"
     ]
    },
    {
     "data": {
      "image/png": "[encoded data removed]",
      "text/plain": [
       "<Figure size 432x288 with 1 Axes>"
      ]
     },
     "metadata": {
      "needs_background": "light"
     },
     "output_type": "display_data"
    }
   ],
   "source": [
    "NB_classifier = train_model(naive_bayes.MultinomialNB())"
   ]
  },
  {
   "cell_type": "markdown",
   "metadata": {},
   "source": [
    "#### Linear classifier"
   ]
  },
  {
   "cell_type": "code",
   "execution_count": 11,
   "metadata": {},
   "outputs": [
    {
     "name": "stdout",
     "output_type": "stream",
     "text": [
      "model accuracy: 0.999\n"
     ]
    },
    {
     "data": {
      "image/png": "[encoded data removed]",
      "text/plain": [
       "<Figure size 432x288 with 1 Axes>"
      ]
     },
     "metadata": {
      "needs_background": "light"
     },
     "output_type": "display_data"
    }
   ],
   "source": [
    "LR_classifier = train_model(linear_model.LogisticRegression())"
   ]
  },
  {
   "cell_type": "markdown",
   "metadata": {},
   "source": [
    "#### SVM"
   ]
  },
  {
   "cell_type": "code",
   "execution_count": 18,
   "metadata": {},
   "outputs": [
    {
     "name": "stdout",
     "output_type": "stream",
     "text": [
      "model accuracy: 1.0\n"
     ]
    },
    {
     "data": {
      "image/png": "[encoded data removed]",
      "text/plain": [
       "<Figure size 432x288 with 1 Axes>"
      ]
     },
     "metadata": {
      "needs_background": "light"
     },
     "output_type": "display_data"
    }
   ],
   "source": [
    "SVM_classifier = train_model(svm.SVC())"
   ]
  },
  {
   "cell_type": "markdown",
   "metadata": {},
   "source": [
    "#### Random Forest"
   ]
  },
  {
   "cell_type": "code",
   "execution_count": 13,
   "metadata": {},
   "outputs": [
    {
     "name": "stdout",
     "output_type": "stream",
     "text": [
      "model accuracy: 0.999\n"
     ]
    },
    {
     "data": {
      "image/png": "[encoded data removed]",
      "text/plain": [
       "<Figure size 432x288 with 1 Axes>"
      ]
     },
     "metadata": {
      "needs_background": "light"
     },
     "output_type": "display_data"
    }
   ],
   "source": [
    "RF_classifier = train_model(RandomForestClassifier())"
   ]
  },
  {
   "cell_type": "markdown",
   "metadata": {},
   "source": [
    "#### Gradient boosting"
   ]
  },
  {
   "cell_type": "code",
   "execution_count": 14,
   "metadata": {},
   "outputs": [
    {
     "name": "stdout",
     "output_type": "stream",
     "text": [
      "LR: 0.1,  n_estimators: 100\n",
      "model accuracy: 0.991\n"
     ]
    },
    {
     "data": {
      "image/png": "[encoded data removed]",
      "text/plain": [
       "<Figure size 432x288 with 1 Axes>"
      ]
     },
     "metadata": {
      "needs_background": "light"
     },
     "output_type": "display_data"
    },
    {
     "name": "stdout",
     "output_type": "stream",
     "text": [
      "LR: 0.1,  n_estimators: 500\n",
      "model accuracy: 0.998\n"
     ]
    },
    {
     "data": {
      "image/png": "[encoded data removed]",
      "text/plain": [
       "<Figure size 432x288 with 1 Axes>"
      ]
     },
     "metadata": {
      "needs_background": "light"
     },
     "output_type": "display_data"
    },
    {
     "name": "stdout",
     "output_type": "stream",
     "text": [
      "LR: 0.01,  n_estimators: 100\n",
      "model accuracy: 0.964\n"
     ]
    },
    {
     "data": {
      "image/png": "[encoded data removed]",
      "text/plain": [
       "<Figure size 432x288 with 1 Axes>"
      ]
     },
     "metadata": {
      "needs_background": "light"
     },
     "output_type": "display_data"
    },
    {
     "name": "stdout",
     "output_type": "stream",
     "text": [
      "LR: 0.01,  n_estimators: 500\n",
      "model accuracy: 0.982\n"
     ]
    },
    {
     "data": {
      "image/png": "[encoded data removed]",
      "text/plain": [
       "<Figure size 432x288 with 1 Axes>"
      ]
     },
     "metadata": {
      "needs_background": "light"
     },
     "output_type": "display_data"
    }
   ],
   "source": [
    "learning_rates = [0.1, 0.01]\n",
    "n_estimators = [100, 500]\n",
    "\n",
    "for lr in learning_rates:\n",
    "    for n in n_estimators:\n",
    "        print(f\"LR: {lr},  n_estimators: {n}\")\n",
    "        RF_classifier = train_model(GradientBoostingClassifier(learning_rate=lr,\n",
    "                                                      n_estimators=n))"
   ]
  },
  {
   "cell_type": "markdown",
   "metadata": {},
   "source": [
    "#### Save the model\n",
    "* as the SVM classifier performs better than the others, we will save it"
   ]
  },
  {
   "cell_type": "code",
   "execution_count": 15,
   "metadata": {},
   "outputs": [],
   "source": [
    "save_classifier(SVM_classifier)"
   ]
  },
  {
   "cell_type": "code",
   "execution_count": null,
   "metadata": {},
   "outputs": [],
   "source": []
  }
 ],
 "metadata": {
  "kernelspec": {
   "display_name": "cookix",
   "language": "python",
   "name": "cookix"
  },
  "language_info": {
   "codemirror_mode": {
    "name": "ipython",
    "version": 3
   },
   "file_extension": ".py",
   "mimetype": "text/x-python",
   "name": "python",
   "nbconvert_exporter": "python",
   "pygments_lexer": "ipython3",
   "version": "3.8.3"
  }
 },
 "nbformat": 4,
 "nbformat_minor": 4
}
